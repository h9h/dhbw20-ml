{
 "cells": [
  {
   "cell_type": "markdown",
   "metadata": {},
   "source": [
    "# Drawing Tool\n",
    "\n",
    "Mit diesem kleinen Tool kannst du eigene Datenmuster malen indem du mit der Maus in das untere Canvas clickst. Um die Zelle zu bereinigen starte diese einfach neu.\n",
    "\n",
    "**Beachte:** Füge die folgende Codezelle am besten direkt zu dem gewünschten Notebook hinzu. Danach ersetze, wo es möglich ist, die Eingaben für die Algorithmen mit den Variablen **_x** und **_y**."
   ]
  },
  {
   "cell_type": "code",
   "execution_count": 12,
   "metadata": {},
   "outputs": [
    {
     "name": "stdout",
     "output_type": "stream",
     "text": [
      "\n",
      "----------Male deine eigenen Datenpunkte-----------\n",
      "------Klicke dazu einfach in die weiße Fläche------\n",
      "\n",
      "\n"
     ]
    },
    {
     "data": {
      "application/vnd.jupyter.widget-view+json": {
       "model_id": "8c351258561e4f5eb465662b00851866",
       "version_major": 2,
       "version_minor": 0
      },
      "text/plain": [
       "Canvas(width=800)"
      ]
     },
     "metadata": {},
     "output_type": "display_data"
    }
   ],
   "source": [
    "from math import pi\n",
    "\n",
    "from ipycanvas import Canvas\n",
    "\n",
    "\n",
    "_radius = 5\n",
    "_x = []\n",
    "_y = []\n",
    "\n",
    "\n",
    "print(\"\\n----------Male deine eigenen Datenpunkte-----------\\n------Klicke dazu einfach in die weiße Fläche------\\n\\n\")\n",
    "\n",
    "canvas = Canvas(width=800, height=500)\n",
    "\n",
    "canvas.fill_style = 'black'\n",
    "canvas.fill_arcs(_x, _y, _radius,0,360)\n",
    "\n",
    "def handle_mouse_down(x, y):\n",
    "    _x.append(round(x,1))\n",
    "    _y.append(round(y,1))\n",
    "    canvas.clear()\n",
    "    canvas.fill_arcs(_x, _y, _radius,0,360)\n",
    "    pass\n",
    "\n",
    "canvas.on_mouse_down(handle_mouse_down)\n",
    "\n",
    "canvas"
   ]
  },
  {
   "cell_type": "code",
   "execution_count": 14,
   "metadata": {},
   "outputs": [
    {
     "name": "stdout",
     "output_type": "stream",
     "text": [
      "\n",
      "\n",
      "These are your datapoints --> Insert them into an algorithm\n",
      "\n",
      "\n",
      "x_data:[225.6, 301.6, 257.6, 272.6, 300.6, 319.6, 289.6, 274.6, 377.6, 318.6, 339.6, 349.6, 297.6, 360.6, 334.6, 326.6, 304.6, 405.6, 344.6]\n",
      "\n",
      "y_data:[275.2, 303.2, 334.2, 350.2, 348.2, 327.2, 327.2, 311.2, 387.6, 387.6, 357.6, 404.6, 423.6, 417.6, 443.6, 417.6, 446.6, 441.6, 447.6]\n",
      "\n"
     ]
    }
   ],
   "source": [
    "if(len(_x)==0):\n",
    "    print(\"Add some points using the interactive canvas drawing tool above!\")\n",
    "else:\n",
    "    print(\"\\n\\nThese are your datapoints --> Insert them into an algorithm\\n\\n\")\n",
    "    print(\"x_data:\"+str(_x)+\"\\n\")\n",
    "    print(\"y_data:\"+str(_y)+\"\\n\")\n",
    "\n"
   ]
  },
  {
   "cell_type": "code",
   "execution_count": null,
   "metadata": {},
   "outputs": [],
   "source": []
  }
 ],
 "metadata": {
  "kernelspec": {
   "display_name": "Python 3",
   "language": "python",
   "name": "python3"
  },
  "language_info": {
   "codemirror_mode": {
    "name": "ipython",
    "version": 3
   },
   "file_extension": ".py",
   "mimetype": "text/x-python",
   "name": "python",
   "nbconvert_exporter": "python",
   "pygments_lexer": "ipython3",
   "version": "3.8.3"
  }
 },
 "nbformat": 4,
 "nbformat_minor": 4
}
